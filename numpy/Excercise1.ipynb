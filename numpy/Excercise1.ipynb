{
  "nbformat": 4,
  "nbformat_minor": 0,
  "metadata": {
    "colab": {
      "name": "Copy of numpy_excercise0.ipynb",
      "provenance": [],
      "collapsed_sections": [],
      "authorship_tag": "ABX9TyNZ/C8fN9/bTft/s/Y3fCzr",
      "include_colab_link": true
    },
    "kernelspec": {
      "name": "python3",
      "display_name": "Python 3"
    },
    "language_info": {
      "name": "python"
    }
  },
  "cells": [
    {
      "cell_type": "markdown",
      "metadata": {
        "id": "view-in-github",
        "colab_type": "text"
      },
      "source": [
        "<a href=\"https://colab.research.google.com/github/aman5898/Data-Science-Extended-LRC/blob/main/numpy/Excercise1.ipynb\" target=\"_parent\"><img src=\"https://colab.research.google.com/assets/colab-badge.svg\" alt=\"Open In Colab\"/></a>"
      ]
    },
    {
      "cell_type": "markdown",
      "metadata": {
        "id": "gX8SgQjYg9Pv"
      },
      "source": [
        "**Import numpy as np**"
      ]
    },
    {
      "cell_type": "code",
      "metadata": {
        "id": "jv3Xo5nXg3tA"
      },
      "source": [
        ""
      ],
      "execution_count": null,
      "outputs": []
    },
    {
      "cell_type": "markdown",
      "metadata": {
        "id": "oTfF2hlPhCmF"
      },
      "source": [
        "**Create an array of 10 zeros**"
      ]
    },
    {
      "cell_type": "code",
      "metadata": {
        "colab": {
          "base_uri": "https://localhost:8080/"
        },
        "id": "wIwsJrYchFsj",
        "outputId": "bee5449d-817b-40b4-af5e-9cac0f1f42e4"
      },
      "source": [
        ""
      ],
      "execution_count": null,
      "outputs": [
        {
          "output_type": "execute_result",
          "data": {
            "text/plain": [
              "array([0., 0., 0., 0., 0., 0., 0., 0., 0., 0.])"
            ]
          },
          "metadata": {},
          "execution_count": 2
        }
      ]
    },
    {
      "cell_type": "markdown",
      "metadata": {
        "id": "vcIl9pJ8hGAM"
      },
      "source": [
        "**Create an array of 10 ones**"
      ]
    },
    {
      "cell_type": "code",
      "metadata": {
        "colab": {
          "base_uri": "https://localhost:8080/"
        },
        "id": "FNBOoy7YhJDz",
        "outputId": "6c581d93-6373-46bd-d0bd-e4cb5c978d4f"
      },
      "source": [
        ""
      ],
      "execution_count": null,
      "outputs": [
        {
          "output_type": "execute_result",
          "data": {
            "text/plain": [
              "array([1., 1., 1., 1., 1., 1., 1., 1., 1., 1.])"
            ]
          },
          "metadata": {},
          "execution_count": 3
        }
      ]
    },
    {
      "cell_type": "markdown",
      "metadata": {
        "id": "iGTVWS-xhJR_"
      },
      "source": [
        "**Create an array of 10 fives**"
      ]
    },
    {
      "cell_type": "code",
      "metadata": {
        "colab": {
          "base_uri": "https://localhost:8080/"
        },
        "id": "bioPQimlhMaF",
        "outputId": "31b8e597-365c-4104-ae53-cf4b10589520"
      },
      "source": [
        ""
      ],
      "execution_count": null,
      "outputs": [
        {
          "output_type": "execute_result",
          "data": {
            "text/plain": [
              "array([5., 5., 5., 5., 5., 5., 5., 5., 5., 5.])"
            ]
          },
          "metadata": {},
          "execution_count": 4
        }
      ]
    },
    {
      "cell_type": "markdown",
      "metadata": {
        "id": "DhZUq38whgCu"
      },
      "source": [
        "**Create an array of the integers from 10 to 50**"
      ]
    },
    {
      "cell_type": "code",
      "metadata": {
        "colab": {
          "base_uri": "https://localhost:8080/"
        },
        "id": "j_u7EixahfS-",
        "outputId": "07e48544-be37-4282-9b05-829989c73a0f"
      },
      "source": [
        ""
      ],
      "execution_count": null,
      "outputs": [
        {
          "output_type": "execute_result",
          "data": {
            "text/plain": [
              "array([10, 11, 12, 13, 14, 15, 16, 17, 18, 19, 20, 21, 22, 23, 24, 25, 26,\n",
              "       27, 28, 29, 30, 31, 32, 33, 34, 35, 36, 37, 38, 39, 40, 41, 42, 43,\n",
              "       44, 45, 46, 47, 48, 49, 50])"
            ]
          },
          "metadata": {},
          "execution_count": 5
        }
      ]
    },
    {
      "cell_type": "markdown",
      "metadata": {
        "id": "yL3qc8vmhtMX"
      },
      "source": [
        "**Create an array of all the even integers from 10 to 50**"
      ]
    },
    {
      "cell_type": "code",
      "metadata": {
        "colab": {
          "base_uri": "https://localhost:8080/"
        },
        "id": "0pckFbQGhw4Z",
        "outputId": "46e61ee0-8f85-48c5-b317-4596d6d3c7c6"
      },
      "source": [
        ""
      ],
      "execution_count": null,
      "outputs": [
        {
          "output_type": "execute_result",
          "data": {
            "text/plain": [
              "array([10, 12, 14, 16, 18, 20, 22, 24, 26, 28, 30, 32, 34, 36, 38, 40, 42,\n",
              "       44, 46, 48, 50])"
            ]
          },
          "metadata": {},
          "execution_count": 7
        }
      ]
    },
    {
      "cell_type": "markdown",
      "metadata": {
        "id": "SdtofJi_h5WM"
      },
      "source": [
        "**Create a 3x4 matrix with numbers ranging from 0 to 12**"
      ]
    },
    {
      "cell_type": "code",
      "metadata": {
        "colab": {
          "base_uri": "https://localhost:8080/"
        },
        "id": "V_mDcyyPh0kM",
        "outputId": "16700136-7f33-418d-f000-f52353c546a2"
      },
      "source": [
        ""
      ],
      "execution_count": null,
      "outputs": [
        {
          "output_type": "execute_result",
          "data": {
            "text/plain": [
              "array([[0, 1, 2],\n",
              "       [3, 4, 5],\n",
              "       [6, 7, 8]])"
            ]
          },
          "metadata": {},
          "execution_count": 8
        }
      ]
    },
    {
      "cell_type": "markdown",
      "metadata": {
        "id": "TF63DVYdiHUp"
      },
      "source": [
        "**Create a 3x3 identity matrix**"
      ]
    },
    {
      "cell_type": "code",
      "metadata": {
        "colab": {
          "base_uri": "https://localhost:8080/"
        },
        "id": "5Z8Kl49niDj_",
        "outputId": "b2c83207-c238-48e7-b02f-cf4e7181c624"
      },
      "source": [
        ""
      ],
      "execution_count": null,
      "outputs": [
        {
          "output_type": "execute_result",
          "data": {
            "text/plain": [
              "array([[1., 0., 0.],\n",
              "       [0., 1., 0.],\n",
              "       [0., 0., 1.]])"
            ]
          },
          "metadata": {},
          "execution_count": 9
        }
      ]
    },
    {
      "cell_type": "markdown",
      "metadata": {
        "id": "7-TKphGniSni"
      },
      "source": [
        "**Use Numpy to generate a random number between 0 and 1**"
      ]
    },
    {
      "cell_type": "code",
      "metadata": {
        "colab": {
          "base_uri": "https://localhost:8080/"
        },
        "id": "qqXA7JMPiRod",
        "outputId": "781431c5-fbd1-4212-c33e-da7e7f22a2af"
      },
      "source": [
        ""
      ],
      "execution_count": null,
      "outputs": [
        {
          "output_type": "execute_result",
          "data": {
            "text/plain": [
              "array([0.28546397])"
            ]
          },
          "metadata": {},
          "execution_count": 15
        }
      ]
    },
    {
      "cell_type": "markdown",
      "metadata": {
        "id": "z3xKZYsSjDDE"
      },
      "source": [
        "**Use Numpy to generate an array of 25 random numbers sampled from a standard normal distribution**"
      ]
    },
    {
      "cell_type": "code",
      "metadata": {
        "colab": {
          "base_uri": "https://localhost:8080/"
        },
        "id": "okMA4he2ib4V",
        "outputId": "beb1695a-296f-4e52-b288-a06cb5f0f1f2"
      },
      "source": [
        ""
      ],
      "execution_count": null,
      "outputs": [
        {
          "output_type": "execute_result",
          "data": {
            "text/plain": [
              "array([-1.63679225, -0.08048575, -0.4651891 ,  1.5185134 , -1.8660177 ,\n",
              "        1.1769286 , -1.51652005,  0.15312077, -1.07068474,  0.39794915,\n",
              "       -0.65114331, -0.36899938,  0.9176814 ,  0.22872259, -0.11699115,\n",
              "        0.59146577, -1.47148326,  1.30625009, -0.8810709 , -0.39740908,\n",
              "       -0.70420538, -0.76688333, -2.19641247, -0.09702381,  0.40746405])"
            ]
          },
          "metadata": {},
          "execution_count": 16
        }
      ]
    },
    {
      "cell_type": "markdown",
      "metadata": {
        "id": "LNnEXURBjcLs"
      },
      "source": [
        "**Create an (10x10)array having numbers from 0.01 to 1 increasing by 0.01**"
      ]
    },
    {
      "cell_type": "code",
      "metadata": {
        "colab": {
          "base_uri": "https://localhost:8080/"
        },
        "id": "Fskh08Q1jmXp",
        "outputId": "32de8abf-2612-47a5-e0cc-7c5cb6f7b972"
      },
      "source": [
        ""
      ],
      "execution_count": null,
      "outputs": [
        {
          "output_type": "execute_result",
          "data": {
            "text/plain": [
              "array([[0.01, 0.02, 0.03, 0.04, 0.05, 0.06, 0.07, 0.08, 0.09, 0.1 ],\n",
              "       [0.11, 0.12, 0.13, 0.14, 0.15, 0.16, 0.17, 0.18, 0.19, 0.2 ],\n",
              "       [0.21, 0.22, 0.23, 0.24, 0.25, 0.26, 0.27, 0.28, 0.29, 0.3 ],\n",
              "       [0.31, 0.32, 0.33, 0.34, 0.35, 0.36, 0.37, 0.38, 0.39, 0.4 ],\n",
              "       [0.41, 0.42, 0.43, 0.44, 0.45, 0.46, 0.47, 0.48, 0.49, 0.5 ],\n",
              "       [0.51, 0.52, 0.53, 0.54, 0.55, 0.56, 0.57, 0.58, 0.59, 0.6 ],\n",
              "       [0.61, 0.62, 0.63, 0.64, 0.65, 0.66, 0.67, 0.68, 0.69, 0.7 ],\n",
              "       [0.71, 0.72, 0.73, 0.74, 0.75, 0.76, 0.77, 0.78, 0.79, 0.8 ],\n",
              "       [0.81, 0.82, 0.83, 0.84, 0.85, 0.86, 0.87, 0.88, 0.89, 0.9 ],\n",
              "       [0.91, 0.92, 0.93, 0.94, 0.95, 0.96, 0.97, 0.98, 0.99, 1.  ]])"
            ]
          },
          "metadata": {},
          "execution_count": 23
        }
      ]
    },
    {
      "cell_type": "markdown",
      "metadata": {
        "id": "ETv6I8YTkayg"
      },
      "source": [
        "**Create a (10x10)array of 100 linearly spaces numbers from 0.01 to 1**"
      ]
    },
    {
      "cell_type": "code",
      "metadata": {
        "colab": {
          "base_uri": "https://localhost:8080/"
        },
        "id": "SS5RWLubkmCe",
        "outputId": "73abb46a-cfeb-4c57-82ba-0fb8c9ee5622"
      },
      "source": [
        ""
      ],
      "execution_count": null,
      "outputs": [
        {
          "output_type": "execute_result",
          "data": {
            "text/plain": [
              "array([[0.01, 0.02, 0.03, 0.04, 0.05, 0.06, 0.07, 0.08, 0.09, 0.1 ],\n",
              "       [0.11, 0.12, 0.13, 0.14, 0.15, 0.16, 0.17, 0.18, 0.19, 0.2 ],\n",
              "       [0.21, 0.22, 0.23, 0.24, 0.25, 0.26, 0.27, 0.28, 0.29, 0.3 ],\n",
              "       [0.31, 0.32, 0.33, 0.34, 0.35, 0.36, 0.37, 0.38, 0.39, 0.4 ],\n",
              "       [0.41, 0.42, 0.43, 0.44, 0.45, 0.46, 0.47, 0.48, 0.49, 0.5 ],\n",
              "       [0.51, 0.52, 0.53, 0.54, 0.55, 0.56, 0.57, 0.58, 0.59, 0.6 ],\n",
              "       [0.61, 0.62, 0.63, 0.64, 0.65, 0.66, 0.67, 0.68, 0.69, 0.7 ],\n",
              "       [0.71, 0.72, 0.73, 0.74, 0.75, 0.76, 0.77, 0.78, 0.79, 0.8 ],\n",
              "       [0.81, 0.82, 0.83, 0.84, 0.85, 0.86, 0.87, 0.88, 0.89, 0.9 ],\n",
              "       [0.91, 0.92, 0.93, 0.94, 0.95, 0.96, 0.97, 0.98, 0.99, 1.  ]])"
            ]
          },
          "metadata": {},
          "execution_count": 27
        }
      ]
    },
    {
      "cell_type": "markdown",
      "metadata": {
        "id": "aJk9hkikliYL"
      },
      "source": [
        "#Numpy Indexing and Selection"
      ]
    },
    {
      "cell_type": "code",
      "metadata": {
        "colab": {
          "base_uri": "https://localhost:8080/"
        },
        "id": "oBLqBk-0lnKC",
        "outputId": "a0d21894-ccd3-45d7-a0c0-944482ba858d"
      },
      "source": [
        ""
      ],
      "execution_count": null,
      "outputs": [
        {
          "output_type": "execute_result",
          "data": {
            "text/plain": [
              "array([[ 1,  2,  3,  4,  5],\n",
              "       [ 6,  7,  8,  9, 10],\n",
              "       [11, 12, 13, 14, 15],\n",
              "       [16, 17, 18, 19, 20],\n",
              "       [21, 22, 23, 24, 25]])"
            ]
          },
          "metadata": {},
          "execution_count": 28
        }
      ]
    },
    {
      "cell_type": "markdown",
      "metadata": {
        "id": "JjWRLf4omWwt"
      },
      "source": [
        "**extract array**\n",
        "\n",
        "[\n",
        "  [12,13,14],\n",
        "\n",
        "  [17,18,19],\n",
        "\n",
        "  [22,23,24]\n",
        "]"
      ]
    },
    {
      "cell_type": "code",
      "metadata": {
        "id": "G_F5Qn-EmQnX"
      },
      "source": [
        ""
      ],
      "execution_count": null,
      "outputs": []
    },
    {
      "cell_type": "markdown",
      "metadata": {
        "id": "wIb1kQsSmupr"
      },
      "source": [
        "**extract array**\n",
        "\n",
        "[\n",
        "  [14, 13, 12],\n",
        "\n",
        "  [19, 18, 17],\n",
        "\n",
        "  [24, 23, 22]\n",
        "]"
      ]
    },
    {
      "cell_type": "code",
      "metadata": {
        "id": "0GbIQPLkm1vT"
      },
      "source": [
        ""
      ],
      "execution_count": null,
      "outputs": []
    },
    {
      "cell_type": "markdown",
      "metadata": {
        "id": "Q3fF94y1m4qC"
      },
      "source": [
        "**extract array**\n",
        "\n",
        "[\n",
        "  [24, 23, 22],\n",
        "\n",
        "  [19, 18, 17],\n",
        "\n",
        "  [14, 13, 12],  \n",
        "]"
      ]
    },
    {
      "cell_type": "code",
      "metadata": {
        "id": "_ZqZT-l8m82Z"
      },
      "source": [
        ""
      ],
      "execution_count": null,
      "outputs": []
    },
    {
      "cell_type": "markdown",
      "metadata": {
        "id": "YHmvl3VrnEzY"
      },
      "source": [
        "#Split Concatinate"
      ]
    },
    {
      "cell_type": "code",
      "metadata": {
        "colab": {
          "base_uri": "https://localhost:8080/"
        },
        "id": "bNbdzPb8nH5c",
        "outputId": "977447c6-2875-46aa-87b5-c872bd7f1741"
      },
      "source": [
        "ar = np.arange(2,10)\n",
        "ar"
      ],
      "execution_count": null,
      "outputs": [
        {
          "output_type": "execute_result",
          "data": {
            "text/plain": [
              "array([2, 3, 4, 5, 6, 7, 8, 9])"
            ]
          },
          "metadata": {},
          "execution_count": 30
        }
      ]
    },
    {
      "cell_type": "markdown",
      "metadata": {
        "id": "Q7JpN_ElnV0E"
      },
      "source": [
        "**Split array to generate 3 arrays with content**\n",
        "\n",
        "[2,3,4]\n",
        "\n",
        "[5, 6]\n",
        "\n",
        "[]\n",
        "\n",
        "[7,8,9]"
      ]
    },
    {
      "cell_type": "code",
      "metadata": {
        "colab": {
          "base_uri": "https://localhost:8080/"
        },
        "id": "DD9ppBCpnR94",
        "outputId": "a23e83dc-9a8d-4b77-99b5-5c0b4d371ccc"
      },
      "source": [
        ""
      ],
      "execution_count": null,
      "outputs": [
        {
          "output_type": "execute_result",
          "data": {
            "text/plain": [
              "[array([2, 3, 4]), array([5, 6]), array([], dtype=int64), array([7, 8, 9])]"
            ]
          },
          "metadata": {},
          "execution_count": 34
        }
      ]
    },
    {
      "cell_type": "code",
      "metadata": {
        "id": "waNqYReToJvC"
      },
      "source": [
        "a = np.array([\n",
        "              [1,2,3],\n",
        "              [4,5,6]\n",
        "])\n",
        "b = np.array([\n",
        "              [7,8,9]\n",
        "])"
      ],
      "execution_count": null,
      "outputs": []
    },
    {
      "cell_type": "markdown",
      "metadata": {
        "id": "D9KgMNsOn__h"
      },
      "source": [
        "**Concatinate array to create new array with content**\n",
        "\n",
        "[\n",
        "  [1,2,3],\n",
        "\n",
        "  [4,5,6],\n",
        "  \n",
        "  [7,8,9]\n",
        "]"
      ]
    },
    {
      "cell_type": "code",
      "metadata": {
        "id": "3HZZlRPtobB1"
      },
      "source": [
        "a = np.array([\n",
        "              [1,2,3],\n",
        "              [4,5,6]\n",
        "])\n",
        "b = np.array([\n",
        "              [7,8,9, 10],\n",
        "              [11, 12, 13, 14]\n",
        "])"
      ],
      "execution_count": null,
      "outputs": []
    },
    {
      "cell_type": "markdown",
      "metadata": {
        "id": "V9LH9_agowZr"
      },
      "source": [
        "**Concatinate array to create new array with content**\n",
        "\n",
        "[\n",
        "\n",
        "  [1,2,3, 7,8,9, 10],\n",
        "\n",
        "  [4,5,6, 11, 12, 13, 14]\n",
        "  \n",
        "]"
      ]
    },
    {
      "cell_type": "code",
      "metadata": {
        "id": "EivQu5Eaou4A"
      },
      "source": [
        ""
      ],
      "execution_count": null,
      "outputs": []
    },
    {
      "cell_type": "markdown",
      "metadata": {
        "id": "-uCyX-bvo-23"
      },
      "source": [
        "#Broadcasting and Indexing"
      ]
    },
    {
      "cell_type": "code",
      "metadata": {
        "colab": {
          "base_uri": "https://localhost:8080/"
        },
        "id": "dmdf9qNgpDGt",
        "outputId": "ff60a535-7f6a-4f9f-f39d-cee64b446df6"
      },
      "source": [
        ""
      ],
      "execution_count": null,
      "outputs": [
        {
          "output_type": "execute_result",
          "data": {
            "text/plain": [
              "array([ 6.,  6.,  5.,  5., 13., 15., 16.,  2.,  3.,  7.,  6., 12., 12.,\n",
              "       14., 20., 15., 16., 16.,  9., 10., 15.,  1., 10., 18., 12.])"
            ]
          },
          "metadata": {},
          "execution_count": 40
        }
      ]
    },
    {
      "cell_type": "markdown",
      "metadata": {
        "id": "UWHDTOfMpWhs"
      },
      "source": [
        "**create new array containing all numbers which are smaller than 10 in ar**"
      ]
    },
    {
      "cell_type": "code",
      "metadata": {
        "id": "6hwVV5lWpU8s"
      },
      "source": [
        ""
      ],
      "execution_count": null,
      "outputs": []
    },
    {
      "cell_type": "markdown",
      "metadata": {
        "id": "GlwR-PQdpmGD"
      },
      "source": [
        "**create new array containing all numbers which are in range [3, 11] in ar**"
      ]
    },
    {
      "cell_type": "code",
      "metadata": {
        "id": "aVBrLn2Hpr1n"
      },
      "source": [
        ""
      ],
      "execution_count": null,
      "outputs": []
    },
    {
      "cell_type": "markdown",
      "metadata": {
        "id": "aGY4VLiPptFG"
      },
      "source": [
        "**count how many numbers are minimum in ar**\n",
        "\n",
        "example for arr = [2, 4, 6, 2, 9, 2]\n",
        "\n",
        "min is 2\n",
        "\n",
        "there are 3 occurences of 2"
      ]
    },
    {
      "cell_type": "code",
      "metadata": {
        "id": "EgT3w1GUqVRM"
      },
      "source": [
        ""
      ],
      "execution_count": null,
      "outputs": []
    },
    {
      "cell_type": "markdown",
      "metadata": {
        "id": "dpBgZ_PjqXoR"
      },
      "source": [
        "**Create an array of length 20 with first 15 numbers equal to 2 and last 5 numbers = -5**"
      ]
    },
    {
      "cell_type": "code",
      "metadata": {
        "id": "i4xc-k3WqoPi"
      },
      "source": [
        ""
      ],
      "execution_count": null,
      "outputs": []
    },
    {
      "cell_type": "code",
      "metadata": {
        "colab": {
          "base_uri": "https://localhost:8080/"
        },
        "id": "oFaWcgjysF-j",
        "outputId": "5b638e19-36c4-4bcc-ccd0-eca25e90514a"
      },
      "source": [
        "mat = np.round(np.random.rand(50)*100).reshape(5,10)\n",
        "mat"
      ],
      "execution_count": null,
      "outputs": [
        {
          "output_type": "execute_result",
          "data": {
            "text/plain": [
              "array([[ 3., 94., 23., 92., 66., 92., 51., 93., 10., 96.],\n",
              "       [ 8., 35., 48., 41., 85., 58., 19.,  3., 75., 50.],\n",
              "       [56., 18., 71., 48., 57., 62., 12., 98., 29., 13.],\n",
              "       [73., 18., 27., 57., 36., 69., 30., 50.,  7., 23.],\n",
              "       [47., 55., 18., 72., 86., 53., 98., 32., 75., 95.]])"
            ]
          },
          "metadata": {},
          "execution_count": 52
        }
      ]
    },
    {
      "cell_type": "markdown",
      "metadata": {
        "id": "4o5xRHS7sAh_"
      },
      "source": [
        "**Sum min max of all elements of matrix**"
      ]
    },
    {
      "cell_type": "code",
      "metadata": {
        "id": "jJZKNPsYsFb-"
      },
      "source": [
        ""
      ],
      "execution_count": null,
      "outputs": []
    },
    {
      "cell_type": "markdown",
      "metadata": {
        "id": "BLvLnGGNsYdv"
      },
      "source": [
        "**Standard deviation of mat**"
      ]
    },
    {
      "cell_type": "code",
      "metadata": {
        "id": "3surFJbasbWX"
      },
      "source": [
        ""
      ],
      "execution_count": null,
      "outputs": []
    },
    {
      "cell_type": "markdown",
      "metadata": {
        "id": "0fJVpTNBsbqi"
      },
      "source": [
        "**Sum of all columns of mat**"
      ]
    },
    {
      "cell_type": "code",
      "metadata": {
        "id": "p2xPyXinsfVS"
      },
      "source": [
        ""
      ],
      "execution_count": null,
      "outputs": []
    }
  ]
}