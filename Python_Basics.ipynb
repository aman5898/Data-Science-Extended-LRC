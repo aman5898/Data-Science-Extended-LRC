{
  "nbformat": 4,
  "nbformat_minor": 0,
  "metadata": {
    "colab": {
      "name": "Python Basics.ipynb",
      "provenance": [],
      "include_colab_link": true
    },
    "kernelspec": {
      "name": "python3",
      "display_name": "Python 3"
    },
    "language_info": {
      "name": "python"
    }
  },
  "cells": [
    {
      "cell_type": "markdown",
      "metadata": {
        "id": "view-in-github",
        "colab_type": "text"
      },
      "source": [
        "<a href=\"https://colab.research.google.com/github/aman5898/Data-Science-Extended-LRC/blob/main/Python_Basics.ipynb\" target=\"_parent\"><img src=\"https://colab.research.google.com/assets/colab-badge.svg\" alt=\"Open In Colab\"/></a>"
      ]
    },
    {
      "cell_type": "code",
      "execution_count": null,
      "metadata": {
        "id": "0OYnvJxqL_Jc",
        "colab": {
          "base_uri": "https://localhost:8080/"
        },
        "outputId": "31731604-f323-452f-cb43-3dfa1919c54a"
      },
      "outputs": [
        {
          "output_type": "stream",
          "name": "stdout",
          "text": [
            "Hello Pepcoding\n",
            "10\n"
          ]
        }
      ],
      "source": [
        "print(\"Hello Pepcoding\")\n",
        "print(x)"
      ]
    },
    {
      "cell_type": "code",
      "source": [
        "x = 10"
      ],
      "metadata": {
        "id": "1xiVzNcMNOQ6"
      },
      "execution_count": null,
      "outputs": []
    },
    {
      "cell_type": "code",
      "source": [
        "y =\"abc\""
      ],
      "metadata": {
        "id": "RrsitkuCNisf"
      },
      "execution_count": null,
      "outputs": []
    },
    {
      "cell_type": "code",
      "source": [
        "z = 4.4"
      ],
      "metadata": {
        "id": "h9O_Q90gOKid"
      },
      "execution_count": null,
      "outputs": []
    },
    {
      "cell_type": "code",
      "source": [
        "print(x)\n",
        "print(y)\n",
        "print(z)"
      ],
      "metadata": {
        "colab": {
          "base_uri": "https://localhost:8080/"
        },
        "id": "nTt8wnzVOMKb",
        "outputId": "529919b5-b5d7-4a88-9bcd-7ab0f64d38d4"
      },
      "execution_count": null,
      "outputs": [
        {
          "output_type": "stream",
          "name": "stdout",
          "text": [
            "10\n",
            "abc\n",
            "4.4\n"
          ]
        }
      ]
    },
    {
      "cell_type": "code",
      "source": [
        "print(x,y,z)"
      ],
      "metadata": {
        "colab": {
          "base_uri": "https://localhost:8080/"
        },
        "id": "lV-tqBGrOPPb",
        "outputId": "37649a91-9375-49b9-ba8c-2360bc6b5f1a"
      },
      "execution_count": null,
      "outputs": [
        {
          "output_type": "stream",
          "name": "stdout",
          "text": [
            "10 abc 4.4\n"
          ]
        }
      ]
    },
    {
      "cell_type": "code",
      "source": [
        "a,b = 10, 20"
      ],
      "metadata": {
        "id": "OnVIomO-OTV2"
      },
      "execution_count": null,
      "outputs": []
    },
    {
      "cell_type": "code",
      "source": [
        "print(a,b)"
      ],
      "metadata": {
        "colab": {
          "base_uri": "https://localhost:8080/"
        },
        "id": "Z6CFL7tqOigb",
        "outputId": "ba982446-0c43-44b5-a525-a026ed50d044"
      },
      "execution_count": null,
      "outputs": [
        {
          "output_type": "stream",
          "name": "stdout",
          "text": [
            "10 20\n"
          ]
        }
      ]
    },
    {
      "cell_type": "code",
      "source": [
        "a = b= c =30"
      ],
      "metadata": {
        "id": "WhfRXFumOj-t"
      },
      "execution_count": null,
      "outputs": []
    },
    {
      "cell_type": "code",
      "source": [
        "print(a,b,c)"
      ],
      "metadata": {
        "colab": {
          "base_uri": "https://localhost:8080/"
        },
        "id": "4tlT1U9OOpQD",
        "outputId": "55b11ef3-ac82-4c95-f764-20115696488c"
      },
      "execution_count": null,
      "outputs": [
        {
          "output_type": "stream",
          "name": "stdout",
          "text": [
            "30 30 30\n"
          ]
        }
      ]
    },
    {
      "cell_type": "code",
      "source": [
        "import keyword\n",
        "print(keyword.kwlist)"
      ],
      "metadata": {
        "colab": {
          "base_uri": "https://localhost:8080/"
        },
        "id": "xahhGTnWOqvK",
        "outputId": "37af43a7-fddd-4e32-82b4-2a522405360a"
      },
      "execution_count": null,
      "outputs": [
        {
          "output_type": "stream",
          "name": "stdout",
          "text": [
            "['False', 'None', 'True', 'and', 'as', 'assert', 'async', 'await', 'break', 'class', 'continue', 'def', 'del', 'elif', 'else', 'except', 'finally', 'for', 'from', 'global', 'if', 'import', 'in', 'is', 'lambda', 'nonlocal', 'not', 'or', 'pass', 'raise', 'return', 'try', 'while', 'with', 'yield']\n"
          ]
        }
      ]
    },
    {
      "cell_type": "code",
      "source": [
        "#Python Numbers\n",
        "num1 = 4\n",
        "num2 = 4.4\n",
        "num3 = 5+6j"
      ],
      "metadata": {
        "id": "AWL8MSwnPCuK"
      },
      "execution_count": null,
      "outputs": []
    },
    {
      "cell_type": "code",
      "source": [
        "print(num1,num2,num3)"
      ],
      "metadata": {
        "colab": {
          "base_uri": "https://localhost:8080/"
        },
        "id": "O8IbNrRaPUBj",
        "outputId": "ce578447-8e22-4680-f179-7d4e177bc50d"
      },
      "execution_count": null,
      "outputs": [
        {
          "output_type": "stream",
          "name": "stdout",
          "text": [
            "4 4.4 (5+6j)\n"
          ]
        }
      ]
    },
    {
      "cell_type": "code",
      "source": [
        "str1 = \"Pepcoding\""
      ],
      "metadata": {
        "id": "sWdu6ETnPXRf"
      },
      "execution_count": null,
      "outputs": []
    },
    {
      "cell_type": "code",
      "source": [
        "str1.lower.__doc__"
      ],
      "metadata": {
        "colab": {
          "base_uri": "https://localhost:8080/",
          "height": 36
        },
        "id": "7WoG6QYne17D",
        "outputId": "cdde0603-88a2-49f1-ea31-f1054d31f205"
      },
      "execution_count": null,
      "outputs": [
        {
          "output_type": "execute_result",
          "data": {
            "application/vnd.google.colaboratory.intrinsic+json": {
              "type": "string"
            },
            "text/plain": [
              "'Return a copy of the string converted to lowercase.'"
            ]
          },
          "metadata": {},
          "execution_count": 60
        }
      ]
    },
    {
      "cell_type": "code",
      "source": [
        "str1[0:2]"
      ],
      "metadata": {
        "colab": {
          "base_uri": "https://localhost:8080/",
          "height": 36
        },
        "id": "F_YDJ-d9PbVc",
        "outputId": "6deb2a75-2622-44fe-e2e4-6bb15492f3ea"
      },
      "execution_count": null,
      "outputs": [
        {
          "output_type": "execute_result",
          "data": {
            "application/vnd.google.colaboratory.intrinsic+json": {
              "type": "string"
            },
            "text/plain": [
              "'pe'"
            ]
          },
          "metadata": {},
          "execution_count": 21
        }
      ]
    },
    {
      "cell_type": "code",
      "source": [
        "str1[0:]"
      ],
      "metadata": {
        "colab": {
          "base_uri": "https://localhost:8080/",
          "height": 36
        },
        "id": "cU5PX1GoPiIr",
        "outputId": "c078a51e-be22-460e-c347-dd9dd3519fda"
      },
      "execution_count": null,
      "outputs": [
        {
          "output_type": "execute_result",
          "data": {
            "application/vnd.google.colaboratory.intrinsic+json": {
              "type": "string"
            },
            "text/plain": [
              "'pepcoding'"
            ]
          },
          "metadata": {},
          "execution_count": 22
        }
      ]
    },
    {
      "cell_type": "code",
      "source": [
        "str1[:3]"
      ],
      "metadata": {
        "colab": {
          "base_uri": "https://localhost:8080/",
          "height": 36
        },
        "id": "ycnEDVwMPlST",
        "outputId": "2ce9869d-fc33-4e6c-f761-ae9bc3d15286"
      },
      "execution_count": null,
      "outputs": [
        {
          "output_type": "execute_result",
          "data": {
            "application/vnd.google.colaboratory.intrinsic+json": {
              "type": "string"
            },
            "text/plain": [
              "'pep'"
            ]
          },
          "metadata": {},
          "execution_count": 23
        }
      ]
    },
    {
      "cell_type": "code",
      "source": [
        "str1[:]"
      ],
      "metadata": {
        "colab": {
          "base_uri": "https://localhost:8080/",
          "height": 36
        },
        "id": "to5NVKPGPoI3",
        "outputId": "ad995978-993c-4406-ff3a-875d5b805acc"
      },
      "execution_count": null,
      "outputs": [
        {
          "output_type": "execute_result",
          "data": {
            "application/vnd.google.colaboratory.intrinsic+json": {
              "type": "string"
            },
            "text/plain": [
              "'pepcoding'"
            ]
          },
          "metadata": {},
          "execution_count": 24
        }
      ]
    },
    {
      "cell_type": "code",
      "source": [
        "str1[0:5:2]"
      ],
      "metadata": {
        "colab": {
          "base_uri": "https://localhost:8080/",
          "height": 36
        },
        "id": "K9X1kRnHPp6m",
        "outputId": "5cb661fc-6afd-4616-8320-54a534616b60"
      },
      "execution_count": null,
      "outputs": [
        {
          "output_type": "execute_result",
          "data": {
            "application/vnd.google.colaboratory.intrinsic+json": {
              "type": "string"
            },
            "text/plain": [
              "'ppo'"
            ]
          },
          "metadata": {},
          "execution_count": 25
        }
      ]
    },
    {
      "cell_type": "code",
      "source": [
        "str1[-9:-7]"
      ],
      "metadata": {
        "colab": {
          "base_uri": "https://localhost:8080/",
          "height": 36
        },
        "id": "cDRCYy-FPxNG",
        "outputId": "8f0b665e-2ada-4c28-b859-e7cd88cdacb1"
      },
      "execution_count": null,
      "outputs": [
        {
          "output_type": "execute_result",
          "data": {
            "application/vnd.google.colaboratory.intrinsic+json": {
              "type": "string"
            },
            "text/plain": [
              "'pe'"
            ]
          },
          "metadata": {},
          "execution_count": 26
        }
      ]
    },
    {
      "cell_type": "code",
      "source": [
        "str1[-9:]"
      ],
      "metadata": {
        "colab": {
          "base_uri": "https://localhost:8080/",
          "height": 36
        },
        "id": "dAKtwxrXQhFd",
        "outputId": "62a3f8bb-3b35-45d6-fd2a-ad40a8f31b4a"
      },
      "execution_count": null,
      "outputs": [
        {
          "output_type": "execute_result",
          "data": {
            "application/vnd.google.colaboratory.intrinsic+json": {
              "type": "string"
            },
            "text/plain": [
              "'pepcoding'"
            ]
          },
          "metadata": {},
          "execution_count": 27
        }
      ]
    },
    {
      "cell_type": "code",
      "source": [
        "str1[-2:-5]"
      ],
      "metadata": {
        "colab": {
          "base_uri": "https://localhost:8080/",
          "height": 36
        },
        "id": "Qm-qtsmVQjkP",
        "outputId": "bcce54f9-3728-4af7-a933-2242bd15e9ad"
      },
      "execution_count": null,
      "outputs": [
        {
          "output_type": "execute_result",
          "data": {
            "application/vnd.google.colaboratory.intrinsic+json": {
              "type": "string"
            },
            "text/plain": [
              "''"
            ]
          },
          "metadata": {},
          "execution_count": 28
        }
      ]
    },
    {
      "cell_type": "code",
      "source": [
        "str1[-2:-5:-1]"
      ],
      "metadata": {
        "colab": {
          "base_uri": "https://localhost:8080/",
          "height": 36
        },
        "id": "yIPq0QqFQsog",
        "outputId": "9a4b2aca-da57-4112-967a-26802b6d49ec"
      },
      "execution_count": null,
      "outputs": [
        {
          "output_type": "execute_result",
          "data": {
            "application/vnd.google.colaboratory.intrinsic+json": {
              "type": "string"
            },
            "text/plain": [
              "'nid'"
            ]
          },
          "metadata": {},
          "execution_count": 29
        }
      ]
    },
    {
      "cell_type": "code",
      "source": [
        "str1[::-1]"
      ],
      "metadata": {
        "colab": {
          "base_uri": "https://localhost:8080/",
          "height": 36
        },
        "id": "tzipWVYTQ0rm",
        "outputId": "9b77b9bc-8a9e-4d2f-a5f4-1433d87d099a"
      },
      "execution_count": null,
      "outputs": [
        {
          "output_type": "execute_result",
          "data": {
            "application/vnd.google.colaboratory.intrinsic+json": {
              "type": "string"
            },
            "text/plain": [
              "'gnidocpep'"
            ]
          },
          "metadata": {},
          "execution_count": 30
        }
      ]
    },
    {
      "cell_type": "code",
      "source": [
        "str1[-1:7:-2]"
      ],
      "metadata": {
        "colab": {
          "base_uri": "https://localhost:8080/",
          "height": 36
        },
        "id": "oZdhC1L-RGVG",
        "outputId": "8a690d52-4e0f-4ba3-e9ea-74978cf73eea"
      },
      "execution_count": null,
      "outputs": [
        {
          "output_type": "execute_result",
          "data": {
            "application/vnd.google.colaboratory.intrinsic+json": {
              "type": "string"
            },
            "text/plain": [
              "'g'"
            ]
          },
          "metadata": {},
          "execution_count": 32
        }
      ]
    },
    {
      "cell_type": "code",
      "source": [
        "print(str1[0]);"
      ],
      "metadata": {
        "colab": {
          "base_uri": "https://localhost:8080/"
        },
        "id": "L7bMlhhERcXO",
        "outputId": "6e21b4f0-05f1-44a3-d04e-7e671bf03971"
      },
      "execution_count": null,
      "outputs": [
        {
          "output_type": "stream",
          "name": "stdout",
          "text": [
            "p\n"
          ]
        }
      ]
    },
    {
      "cell_type": "code",
      "source": [
        "str1[0]='t'"
      ],
      "metadata": {
        "colab": {
          "base_uri": "https://localhost:8080/",
          "height": 170
        },
        "id": "mgHl8aM0V4m8",
        "outputId": "1b5383ee-73c0-4071-de48-4b3c916b379e"
      },
      "execution_count": null,
      "outputs": [
        {
          "output_type": "error",
          "ename": "TypeError",
          "evalue": "ignored",
          "traceback": [
            "\u001b[0;31m---------------------------------------------------------------------------\u001b[0m",
            "\u001b[0;31mTypeError\u001b[0m                                 Traceback (most recent call last)",
            "\u001b[0;32m<ipython-input-34-59956bbf2f36>\u001b[0m in \u001b[0;36m<module>\u001b[0;34m()\u001b[0m\n\u001b[0;32m----> 1\u001b[0;31m \u001b[0mstr1\u001b[0m\u001b[0;34m[\u001b[0m\u001b[0;36m0\u001b[0m\u001b[0;34m]\u001b[0m\u001b[0;34m=\u001b[0m\u001b[0;34m't'\u001b[0m\u001b[0;34m\u001b[0m\u001b[0;34m\u001b[0m\u001b[0m\n\u001b[0m",
            "\u001b[0;31mTypeError\u001b[0m: 'str' object does not support item assignment"
          ]
        }
      ]
    },
    {
      "cell_type": "code",
      "source": [
        "str1.lower.__doc__"
      ],
      "metadata": {
        "colab": {
          "base_uri": "https://localhost:8080/",
          "height": 36
        },
        "id": "JDnhMsAWV6dP",
        "outputId": "c872426e-840e-4223-82fd-b915cc7efefd"
      },
      "execution_count": null,
      "outputs": [
        {
          "output_type": "execute_result",
          "data": {
            "application/vnd.google.colaboratory.intrinsic+json": {
              "type": "string"
            },
            "text/plain": [
              "'Return a copy of the string converted to lowercase.'"
            ]
          },
          "metadata": {},
          "execution_count": 55
        }
      ]
    },
    {
      "cell_type": "code",
      "source": [
        "def fun():\n",
        "  #Funciton to print Hello World\n",
        "  print(\"Hello Pepcoding\")"
      ],
      "metadata": {
        "id": "qVZvIIhRW5Pd"
      },
      "execution_count": null,
      "outputs": []
    },
    {
      "cell_type": "code",
      "source": [
        "fun()"
      ],
      "metadata": {
        "colab": {
          "base_uri": "https://localhost:8080/"
        },
        "id": "c9qtXurVbYBQ",
        "outputId": "2a00426c-81e6-4cc8-8589-9bd797452587"
      },
      "execution_count": null,
      "outputs": [
        {
          "output_type": "stream",
          "name": "stdout",
          "text": [
            "Hello Pepcoding\n"
          ]
        }
      ]
    },
    {
      "cell_type": "code",
      "source": [
        "def sum(a,b):\n",
        "  #Funciton to print Hello World\n",
        "  print(a+b)\n",
        "  return a+b"
      ],
      "metadata": {
        "id": "zahz61DEbcVF"
      },
      "execution_count": null,
      "outputs": []
    },
    {
      "cell_type": "code",
      "source": [
        "sum(10,20)"
      ],
      "metadata": {
        "colab": {
          "base_uri": "https://localhost:8080/"
        },
        "id": "VpAo0RYubhzK",
        "outputId": "3aa04c25-5431-4c35-e360-aeb3a7049e57"
      },
      "execution_count": null,
      "outputs": [
        {
          "output_type": "stream",
          "name": "stdout",
          "text": [
            "30\n"
          ]
        }
      ]
    },
    {
      "cell_type": "code",
      "source": [
        "c = sum(10,10)\n",
        "print(c)"
      ],
      "metadata": {
        "colab": {
          "base_uri": "https://localhost:8080/"
        },
        "id": "5Qc5zg4lbi6m",
        "outputId": "2cae9b93-919d-46c4-bfab-f0bcb2fce90a"
      },
      "execution_count": null,
      "outputs": [
        {
          "output_type": "stream",
          "name": "stdout",
          "text": [
            "20\n",
            "20\n"
          ]
        }
      ]
    },
    {
      "cell_type": "code",
      "source": [
        "def func(x,y=50):\n",
        "  return x+y"
      ],
      "metadata": {
        "id": "FlbqKa6pbs5y"
      },
      "execution_count": null,
      "outputs": []
    },
    {
      "cell_type": "code",
      "source": [
        "print(func(10,20))\n",
        "print(func(50))"
      ],
      "metadata": {
        "colab": {
          "base_uri": "https://localhost:8080/"
        },
        "id": "bmZk0i69b9Gl",
        "outputId": "d2d365e7-4bac-4e34-ba24-57387c5fc86d"
      },
      "execution_count": null,
      "outputs": [
        {
          "output_type": "stream",
          "name": "stdout",
          "text": [
            "30\n",
            "100\n"
          ]
        }
      ]
    },
    {
      "cell_type": "code",
      "source": [
        "def student(firstname, lastname):\n",
        "    print(firstname, lastname)\n",
        "\n"
      ],
      "metadata": {
        "id": "EPZ8moPfcCOz"
      },
      "execution_count": null,
      "outputs": []
    },
    {
      "cell_type": "code",
      "source": [
        "student(\"Pep\",\"Coding\")"
      ],
      "metadata": {
        "colab": {
          "base_uri": "https://localhost:8080/"
        },
        "id": "zG6L4TOMcP8M",
        "outputId": "a7d6cbf7-6143-4e31-d8d4-d2c27f8ef765"
      },
      "execution_count": null,
      "outputs": [
        {
          "output_type": "stream",
          "name": "stdout",
          "text": [
            "Pep Coding\n"
          ]
        }
      ]
    },
    {
      "cell_type": "code",
      "source": [
        "student(lastname = \"Coding\",firstname=\"pep\")"
      ],
      "metadata": {
        "colab": {
          "base_uri": "https://localhost:8080/"
        },
        "id": "EZFCpOpRcUcl",
        "outputId": "2466e6ef-6f86-4138-9ce0-301c6dee5eb6"
      },
      "execution_count": null,
      "outputs": [
        {
          "output_type": "stream",
          "name": "stdout",
          "text": [
            "pep Coding\n"
          ]
        }
      ]
    },
    {
      "cell_type": "code",
      "source": [
        "def square(x):\n",
        "  \"\"\"Hi I am PEPCODER\"\"\"\n",
        "  return x**3"
      ],
      "metadata": {
        "id": "aM3CyK10cZ7i"
      },
      "execution_count": null,
      "outputs": []
    },
    {
      "cell_type": "code",
      "source": [
        "square.__doc__"
      ],
      "metadata": {
        "colab": {
          "base_uri": "https://localhost:8080/",
          "height": 36
        },
        "id": "klpkxe5Ictns",
        "outputId": "19410313-4f1d-49c3-f915-79d73d17acad"
      },
      "execution_count": null,
      "outputs": [
        {
          "output_type": "execute_result",
          "data": {
            "application/vnd.google.colaboratory.intrinsic+json": {
              "type": "string"
            },
            "text/plain": [
              "'Hi I am PEPCODER'"
            ]
          },
          "metadata": {},
          "execution_count": 54
        }
      ]
    },
    {
      "cell_type": "code",
      "source": [
        "square(4)"
      ],
      "metadata": {
        "colab": {
          "base_uri": "https://localhost:8080/"
        },
        "id": "2Z1MvKjScvgc",
        "outputId": "9fecbdc9-ea7f-4da3-c6db-7019fe2b6ac4"
      },
      "execution_count": null,
      "outputs": [
        {
          "output_type": "execute_result",
          "data": {
            "text/plain": [
              "64"
            ]
          },
          "metadata": {},
          "execution_count": 58
        }
      ]
    },
    {
      "cell_type": "code",
      "source": [
        "x = 40\n",
        "\n",
        "\n",
        "def FuncAgain():\n",
        "  print(\"Hello \"+str(x))\n",
        "\n",
        "print(x)"
      ],
      "metadata": {
        "colab": {
          "base_uri": "https://localhost:8080/"
        },
        "id": "Ivtuodv3ebEV",
        "outputId": "4850810f-1f9b-412f-aa9d-b0bd8624b9df"
      },
      "execution_count": null,
      "outputs": [
        {
          "output_type": "stream",
          "name": "stdout",
          "text": [
            "40\n"
          ]
        }
      ]
    },
    {
      "cell_type": "code",
      "source": [
        "FuncAgain()"
      ],
      "metadata": {
        "colab": {
          "base_uri": "https://localhost:8080/"
        },
        "id": "Dmr_rh4qfJZQ",
        "outputId": "d3cf6cf2-d384-4921-8ff0-481d06c8e2e3"
      },
      "execution_count": null,
      "outputs": [
        {
          "output_type": "stream",
          "name": "stdout",
          "text": [
            "Hello 40\n"
          ]
        }
      ]
    },
    {
      "cell_type": "code",
      "source": [
        "y = 40\n",
        "\n",
        "\n",
        "def FuncAgain():\n",
        "  y=10\n",
        "  print(\"Hello \"+str(y))\n",
        "\n",
        "print(y)"
      ],
      "metadata": {
        "colab": {
          "base_uri": "https://localhost:8080/"
        },
        "id": "wtIaFxaifLQr",
        "outputId": "ff09e082-9897-465d-b31a-dd7037658c99"
      },
      "execution_count": null,
      "outputs": [
        {
          "output_type": "stream",
          "name": "stdout",
          "text": [
            "40\n"
          ]
        }
      ]
    },
    {
      "cell_type": "code",
      "source": [
        "FuncAgain()"
      ],
      "metadata": {
        "colab": {
          "base_uri": "https://localhost:8080/"
        },
        "id": "0mBULJD9fWEj",
        "outputId": "2cc305f3-1acb-4f93-85c9-5cf397091bc0"
      },
      "execution_count": null,
      "outputs": [
        {
          "output_type": "stream",
          "name": "stdout",
          "text": [
            "Hello 10\n"
          ]
        }
      ]
    },
    {
      "cell_type": "code",
      "source": [
        "z = 40\n",
        "\n",
        "\n",
        "def FuncAgain():\n",
        "  global z\n",
        "  z=10\n",
        "  print(\"Hello \"+str(z))\n",
        "\n",
        "FuncAgain()\n",
        "print(z)"
      ],
      "metadata": {
        "colab": {
          "base_uri": "https://localhost:8080/"
        },
        "id": "nG23HmuBfWbt",
        "outputId": "1eede97b-55e0-48c5-c7f5-c0b5bda53a1b"
      },
      "execution_count": null,
      "outputs": [
        {
          "output_type": "stream",
          "name": "stdout",
          "text": [
            "Hello 10\n",
            "10\n"
          ]
        }
      ]
    },
    {
      "cell_type": "code",
      "source": [
        "def FuncAgain():\n",
        "  global w\n",
        "  w=10\n",
        "  print(\"Hello \"+str(w))\n",
        "\n",
        "FuncAgain()\n",
        "print(w)"
      ],
      "metadata": {
        "colab": {
          "base_uri": "https://localhost:8080/"
        },
        "id": "exNsseS-fvh-",
        "outputId": "776d9ba0-8e20-453f-dc7a-4c23f3410b05"
      },
      "execution_count": null,
      "outputs": [
        {
          "output_type": "stream",
          "name": "stdout",
          "text": [
            "Hello 10\n",
            "10\n"
          ]
        }
      ]
    },
    {
      "cell_type": "code",
      "source": [
        "x=500\n",
        "\n",
        "def FuncAgain():\n",
        "  if x>30:\n",
        "    print(\"Hello Brother\")\n",
        "    global p\n",
        "    p=500  \n",
        "\n",
        "FuncAgain()\n",
        "print(p)"
      ],
      "metadata": {
        "colab": {
          "base_uri": "https://localhost:8080/"
        },
        "id": "vdVXU4Gof3lg",
        "outputId": "1bda1ee4-eb2d-4f69-d516-15a5b25c6dda"
      },
      "execution_count": null,
      "outputs": [
        {
          "output_type": "stream",
          "name": "stdout",
          "text": [
            "Hello Brother\n",
            "500\n"
          ]
        }
      ]
    },
    {
      "cell_type": "code",
      "source": [
        "squares = lambda x: x*x\n",
        "\n"
      ],
      "metadata": {
        "id": "SonDZrK6htMX"
      },
      "execution_count": null,
      "outputs": []
    },
    {
      "cell_type": "code",
      "source": [
        "squares(5)"
      ],
      "metadata": {
        "colab": {
          "base_uri": "https://localhost:8080/"
        },
        "id": "5SwKrGBLiTZ8",
        "outputId": "23cdc70b-73c4-4660-e86c-4603aa965000"
      },
      "execution_count": null,
      "outputs": [
        {
          "output_type": "execute_result",
          "data": {
            "text/plain": [
              "25"
            ]
          },
          "metadata": {},
          "execution_count": 86
        }
      ]
    },
    {
      "cell_type": "code",
      "source": [
        "if 15<20:\n",
        "  if 15>10:\n",
        "    print(\"15 is greater than 10\")\n",
        "  else:\n",
        "    print(\"15 is small than 10\")\n",
        "  print(\"15 is greater than 20\")\n",
        "elif 15>13:\n",
        "  print(\"15 is greater than 13\")\n",
        "else:\n",
        "  print(\"10 is greater than 20\")\n"
      ],
      "metadata": {
        "colab": {
          "base_uri": "https://localhost:8080/"
        },
        "id": "oivtssGniVBb",
        "outputId": "a73e0660-35ad-4e9f-b6fb-209a1f7ff39f"
      },
      "execution_count": null,
      "outputs": [
        {
          "output_type": "stream",
          "name": "stdout",
          "text": [
            "15 is greater than 10\n",
            "15 is greater than 20\n"
          ]
        }
      ]
    },
    {
      "cell_type": "code",
      "source": [
        "for x in range(5):\n",
        "  print(x)"
      ],
      "metadata": {
        "colab": {
          "base_uri": "https://localhost:8080/"
        },
        "id": "6wzJLK9-i1py",
        "outputId": "2d7ea4d7-7309-42b4-9672-fb0ee861a3d3"
      },
      "execution_count": null,
      "outputs": [
        {
          "output_type": "stream",
          "name": "stdout",
          "text": [
            "0\n",
            "1\n",
            "2\n",
            "3\n",
            "4\n"
          ]
        }
      ]
    },
    {
      "cell_type": "code",
      "source": [
        "for x in range(5,1,-1):\n",
        "  print(x)"
      ],
      "metadata": {
        "colab": {
          "base_uri": "https://localhost:8080/"
        },
        "id": "7zmXMyJJi97w",
        "outputId": "0cef7e8a-d3f5-4d01-fe4b-b5b94fc71daf"
      },
      "execution_count": null,
      "outputs": [
        {
          "output_type": "stream",
          "name": "stdout",
          "text": [
            "5\n",
            "4\n",
            "3\n",
            "2\n"
          ]
        }
      ]
    },
    {
      "cell_type": "markdown",
      "source": [
        "## List"
      ],
      "metadata": {
        "id": "iyMTlWLbl9u2"
      }
    },
    {
      "cell_type": "code",
      "source": [
        "lst = [1,2,3]"
      ],
      "metadata": {
        "id": "_gL1CpP1jDVJ"
      },
      "execution_count": null,
      "outputs": []
    },
    {
      "cell_type": "code",
      "source": [
        "print(type(lst))"
      ],
      "metadata": {
        "colab": {
          "base_uri": "https://localhost:8080/"
        },
        "id": "i-y_nPXdjLm1",
        "outputId": "4fdf6672-83a7-456c-c784-4bb4cb77b521"
      },
      "execution_count": null,
      "outputs": [
        {
          "output_type": "stream",
          "name": "stdout",
          "text": [
            "<class 'list'>\n"
          ]
        }
      ]
    },
    {
      "cell_type": "code",
      "source": [
        "lst.append(4)"
      ],
      "metadata": {
        "id": "j05qiutYmEOB"
      },
      "execution_count": null,
      "outputs": []
    },
    {
      "cell_type": "code",
      "source": [
        "lst.append(\"Pepcoding\")"
      ],
      "metadata": {
        "id": "HzY1D6spmG4W"
      },
      "execution_count": null,
      "outputs": []
    },
    {
      "cell_type": "code",
      "source": [
        "print(lst)"
      ],
      "metadata": {
        "colab": {
          "base_uri": "https://localhost:8080/"
        },
        "id": "3WC8SHismI67",
        "outputId": "d2dface9-10c6-4530-cbb7-d3a438fd9c2a"
      },
      "execution_count": null,
      "outputs": [
        {
          "output_type": "stream",
          "name": "stdout",
          "text": [
            "[1, 2, 3, 4, 'Pepcoding']\n"
          ]
        }
      ]
    },
    {
      "cell_type": "code",
      "source": [
        "lst2 = [1]"
      ],
      "metadata": {
        "id": "pAed6mndmJ1n"
      },
      "execution_count": null,
      "outputs": []
    },
    {
      "cell_type": "code",
      "source": [
        "lst2.append(lst)"
      ],
      "metadata": {
        "id": "fC-TbdHamOfM"
      },
      "execution_count": null,
      "outputs": []
    },
    {
      "cell_type": "code",
      "source": [
        "print(lst2)"
      ],
      "metadata": {
        "colab": {
          "base_uri": "https://localhost:8080/"
        },
        "id": "xXzybJSymPvC",
        "outputId": "ab3b3e3f-c10b-4712-b388-24d6740c3721"
      },
      "execution_count": null,
      "outputs": [
        {
          "output_type": "stream",
          "name": "stdout",
          "text": [
            "[1, [1, 2, 3, 4, 'Pepcoding']]\n"
          ]
        }
      ]
    },
    {
      "cell_type": "code",
      "source": [
        "lst[0] = 55"
      ],
      "metadata": {
        "id": "0n4ee0TPmQk2"
      },
      "execution_count": null,
      "outputs": []
    },
    {
      "cell_type": "code",
      "source": [
        "print(lst)"
      ],
      "metadata": {
        "colab": {
          "base_uri": "https://localhost:8080/"
        },
        "id": "liAbUb0xmViA",
        "outputId": "9104695c-8fc1-4e21-c189-d7867bf0726e"
      },
      "execution_count": null,
      "outputs": [
        {
          "output_type": "stream",
          "name": "stdout",
          "text": [
            "[55, 2, 3, 4, 'Pepcoding', 55]\n"
          ]
        }
      ]
    },
    {
      "cell_type": "code",
      "source": [
        "lst.append(55)"
      ],
      "metadata": {
        "id": "URMb_4LLmWlj"
      },
      "execution_count": null,
      "outputs": []
    },
    {
      "cell_type": "markdown",
      "source": [
        "## Tuple"
      ],
      "metadata": {
        "id": "Owl64hUYoPAW"
      }
    },
    {
      "cell_type": "code",
      "source": [
        "tup = (1,2,3)"
      ],
      "metadata": {
        "id": "sNgmsSjDmocr"
      },
      "execution_count": null,
      "outputs": []
    },
    {
      "cell_type": "code",
      "source": [
        "print(type(tup))"
      ],
      "metadata": {
        "colab": {
          "base_uri": "https://localhost:8080/"
        },
        "id": "tXgzjAR7oNt5",
        "outputId": "5b3dea7d-0e26-4652-ee68-8d4147f49e26"
      },
      "execution_count": null,
      "outputs": [
        {
          "output_type": "stream",
          "name": "stdout",
          "text": [
            "<class 'tuple'>\n"
          ]
        }
      ]
    },
    {
      "cell_type": "code",
      "source": [
        "my_tuple = (1, \"Hello\", 3.4)\n"
      ],
      "metadata": {
        "id": "3ecYG9qOoTgO"
      },
      "execution_count": null,
      "outputs": []
    },
    {
      "cell_type": "code",
      "source": [
        "print(my_tuple)"
      ],
      "metadata": {
        "colab": {
          "base_uri": "https://localhost:8080/"
        },
        "id": "0ifcu8h-omKi",
        "outputId": "3dad2a9e-9ef9-43b6-85f5-5323f5d205be"
      },
      "execution_count": null,
      "outputs": [
        {
          "output_type": "stream",
          "name": "stdout",
          "text": [
            "(1, 'Hello', 3.4)\n"
          ]
        }
      ]
    },
    {
      "cell_type": "code",
      "source": [
        "tup = (100,)"
      ],
      "metadata": {
        "id": "faOfFX8ponaA"
      },
      "execution_count": null,
      "outputs": []
    },
    {
      "cell_type": "code",
      "source": [
        "print(type(tup))"
      ],
      "metadata": {
        "colab": {
          "base_uri": "https://localhost:8080/"
        },
        "id": "rg_gId9Eo1GO",
        "outputId": "f1a2b5b9-4a7d-43e5-f030-fe0b2f568cd3"
      },
      "execution_count": null,
      "outputs": [
        {
          "output_type": "stream",
          "name": "stdout",
          "text": [
            "<class 'tuple'>\n"
          ]
        }
      ]
    },
    {
      "cell_type": "code",
      "source": [
        "tup2 = tup*3"
      ],
      "metadata": {
        "id": "VCwhSl1mo13w"
      },
      "execution_count": null,
      "outputs": []
    },
    {
      "cell_type": "code",
      "source": [
        "print(tup2)"
      ],
      "metadata": {
        "colab": {
          "base_uri": "https://localhost:8080/"
        },
        "id": "xTaYF0MXpRME",
        "outputId": "3176c8f4-23b5-4459-a742-c3f57fa53942"
      },
      "execution_count": null,
      "outputs": [
        {
          "output_type": "stream",
          "name": "stdout",
          "text": [
            "(100, 100, 100)\n"
          ]
        }
      ]
    },
    {
      "cell_type": "code",
      "source": [
        "if 100 in tup2:\n",
        "  print(\"Pepcoding\")"
      ],
      "metadata": {
        "colab": {
          "base_uri": "https://localhost:8080/"
        },
        "id": "NP-UKA8kpSZz",
        "outputId": "ba2b2b7c-49cb-4d24-ff28-9a6d964120dc"
      },
      "execution_count": null,
      "outputs": [
        {
          "output_type": "stream",
          "name": "stdout",
          "text": [
            "Pepcoding\n"
          ]
        }
      ]
    },
    {
      "cell_type": "code",
      "source": [
        "for x in tup2:\n",
        "  print(x)"
      ],
      "metadata": {
        "colab": {
          "base_uri": "https://localhost:8080/"
        },
        "id": "Ml-_HXXepfq-",
        "outputId": "bddca488-cb99-4fa4-c7bd-9751b380e4d2"
      },
      "execution_count": null,
      "outputs": [
        {
          "output_type": "stream",
          "name": "stdout",
          "text": [
            "100\n",
            "100\n",
            "100\n"
          ]
        }
      ]
    },
    {
      "cell_type": "code",
      "source": [
        "tup2[0]=500"
      ],
      "metadata": {
        "colab": {
          "base_uri": "https://localhost:8080/",
          "height": 170
        },
        "id": "TY63s1o8pmYd",
        "outputId": "d1d6e0c1-81d8-472b-95a7-2b897638526a"
      },
      "execution_count": null,
      "outputs": [
        {
          "output_type": "error",
          "ename": "TypeError",
          "evalue": "ignored",
          "traceback": [
            "\u001b[0;31m---------------------------------------------------------------------------\u001b[0m",
            "\u001b[0;31mTypeError\u001b[0m                                 Traceback (most recent call last)",
            "\u001b[0;32m<ipython-input-29-91e68e7d4721>\u001b[0m in \u001b[0;36m<module>\u001b[0;34m()\u001b[0m\n\u001b[0;32m----> 1\u001b[0;31m \u001b[0mtup2\u001b[0m\u001b[0;34m[\u001b[0m\u001b[0;36m0\u001b[0m\u001b[0;34m]\u001b[0m\u001b[0;34m=\u001b[0m\u001b[0;36m500\u001b[0m\u001b[0;34m\u001b[0m\u001b[0;34m\u001b[0m\u001b[0m\n\u001b[0m",
            "\u001b[0;31mTypeError\u001b[0m: 'tuple' object does not support item assignment"
          ]
        }
      ]
    },
    {
      "cell_type": "markdown",
      "source": [
        "### Set { }"
      ],
      "metadata": {
        "id": "H4kOm9DkTT3e"
      }
    },
    {
      "cell_type": "code",
      "source": [
        "st = {\"banana\",\"Apple\",\"Mango\",\"banana\"}"
      ],
      "metadata": {
        "id": "QsyvWTR9UWjO"
      },
      "execution_count": null,
      "outputs": []
    },
    {
      "cell_type": "code",
      "source": [
        "lst = [1,2,3,\"Banana\"]\n",
        "\n",
        "st = set(lst)"
      ],
      "metadata": {
        "id": "sKmo8_gcVhqM"
      },
      "execution_count": null,
      "outputs": []
    },
    {
      "cell_type": "code",
      "source": [
        "st"
      ],
      "metadata": {
        "id": "eJc2zMqfUdlB",
        "outputId": "56e4beef-4310-4099-d297-6c34877267c3",
        "colab": {
          "base_uri": "https://localhost:8080/"
        }
      },
      "execution_count": null,
      "outputs": [
        {
          "output_type": "execute_result",
          "data": {
            "text/plain": [
              "{1, 2, 3, 'Banana'}"
            ]
          },
          "metadata": {},
          "execution_count": 54
        }
      ]
    },
    {
      "cell_type": "code",
      "source": [
        "st[0]"
      ],
      "metadata": {
        "id": "krZ3L94yUd8e",
        "outputId": "a32cc392-c4fa-40a1-a2fe-d255d9d6f8e1",
        "colab": {
          "base_uri": "https://localhost:8080/",
          "height": 170
        }
      },
      "execution_count": null,
      "outputs": [
        {
          "output_type": "error",
          "ename": "TypeError",
          "evalue": "ignored",
          "traceback": [
            "\u001b[0;31m---------------------------------------------------------------------------\u001b[0m",
            "\u001b[0;31mTypeError\u001b[0m                                 Traceback (most recent call last)",
            "\u001b[0;32m<ipython-input-50-028cc1d9138b>\u001b[0m in \u001b[0;36m<module>\u001b[0;34m()\u001b[0m\n\u001b[0;32m----> 1\u001b[0;31m \u001b[0mst\u001b[0m\u001b[0;34m[\u001b[0m\u001b[0;36m0\u001b[0m\u001b[0;34m]\u001b[0m\u001b[0;34m\u001b[0m\u001b[0;34m\u001b[0m\u001b[0m\n\u001b[0m",
            "\u001b[0;31mTypeError\u001b[0m: 'set' object is not subscriptable"
          ]
        }
      ]
    },
    {
      "cell_type": "code",
      "source": [
        "print(1 in st)"
      ],
      "metadata": {
        "id": "BpQtOhK5Unqp",
        "outputId": "0bdacb23-3230-4ff9-a475-510d2801aab9",
        "colab": {
          "base_uri": "https://localhost:8080/"
        }
      },
      "execution_count": null,
      "outputs": [
        {
          "output_type": "stream",
          "name": "stdout",
          "text": [
            "True\n"
          ]
        }
      ]
    },
    {
      "cell_type": "code",
      "source": [
        "st.add(\"Pomegranate\")\n",
        "\n"
      ],
      "metadata": {
        "id": "liVZM-1BV7BI"
      },
      "execution_count": null,
      "outputs": []
    },
    {
      "cell_type": "code",
      "source": [
        "st"
      ],
      "metadata": {
        "id": "enGujG_xWITj",
        "outputId": "9966bcc7-7bc5-4606-c663-70125b1f7929",
        "colab": {
          "base_uri": "https://localhost:8080/"
        }
      },
      "execution_count": null,
      "outputs": [
        {
          "output_type": "execute_result",
          "data": {
            "text/plain": [
              "{1, 2, 3, 'Banana', 'Pomegranate'}"
            ]
          },
          "metadata": {},
          "execution_count": 57
        }
      ]
    },
    {
      "cell_type": "code",
      "source": [
        "st = {1,2,3,[\"Apple\",\"Mango\",\"Banana\"]}"
      ],
      "metadata": {
        "id": "yYQALFi1WJZk",
        "outputId": "c5afb30e-292d-4cfc-89e3-200c3273648f",
        "colab": {
          "base_uri": "https://localhost:8080/",
          "height": 170
        }
      },
      "execution_count": null,
      "outputs": [
        {
          "output_type": "error",
          "ename": "TypeError",
          "evalue": "ignored",
          "traceback": [
            "\u001b[0;31m---------------------------------------------------------------------------\u001b[0m",
            "\u001b[0;31mTypeError\u001b[0m                                 Traceback (most recent call last)",
            "\u001b[0;32m<ipython-input-58-c3252f75be35>\u001b[0m in \u001b[0;36m<module>\u001b[0;34m()\u001b[0m\n\u001b[0;32m----> 1\u001b[0;31m \u001b[0mst\u001b[0m \u001b[0;34m=\u001b[0m \u001b[0;34m{\u001b[0m\u001b[0;36m1\u001b[0m\u001b[0;34m,\u001b[0m\u001b[0;36m2\u001b[0m\u001b[0;34m,\u001b[0m\u001b[0;36m3\u001b[0m\u001b[0;34m,\u001b[0m\u001b[0;34m[\u001b[0m\u001b[0;34m\"Apple\"\u001b[0m\u001b[0;34m,\u001b[0m\u001b[0;34m\"Mango\"\u001b[0m\u001b[0;34m,\u001b[0m\u001b[0;34m\"Banana\"\u001b[0m\u001b[0;34m]\u001b[0m\u001b[0;34m}\u001b[0m\u001b[0;34m\u001b[0m\u001b[0;34m\u001b[0m\u001b[0m\n\u001b[0m",
            "\u001b[0;31mTypeError\u001b[0m: unhashable type: 'list'"
          ]
        }
      ]
    },
    {
      "cell_type": "code",
      "source": [
        "st = {1,2,3,(\"Apple\",\"Mango\",\"Banana\")}"
      ],
      "metadata": {
        "id": "jDrtW75cWReY"
      },
      "execution_count": null,
      "outputs": []
    },
    {
      "cell_type": "code",
      "source": [
        "st"
      ],
      "metadata": {
        "id": "S4AtMgsbWbNE",
        "outputId": "cf882954-8904-4a5a-a6ff-36bf5baa213b",
        "colab": {
          "base_uri": "https://localhost:8080/"
        }
      },
      "execution_count": null,
      "outputs": [
        {
          "output_type": "execute_result",
          "data": {
            "text/plain": [
              "set()"
            ]
          },
          "metadata": {},
          "execution_count": 64
        }
      ]
    },
    {
      "cell_type": "code",
      "source": [
        "st.remove(1)"
      ],
      "metadata": {
        "id": "7820E3PuWb63"
      },
      "execution_count": null,
      "outputs": []
    },
    {
      "cell_type": "code",
      "source": [
        "st.clear()"
      ],
      "metadata": {
        "id": "-IKxGXsVWhPJ"
      },
      "execution_count": null,
      "outputs": []
    },
    {
      "cell_type": "code",
      "source": [
        "print(st.pop())"
      ],
      "metadata": {
        "id": "w6cZ8Qd7WjuH",
        "outputId": "b2d754ba-557e-44ee-db84-7093149f51a0",
        "colab": {
          "base_uri": "https://localhost:8080/"
        }
      },
      "execution_count": null,
      "outputs": [
        {
          "output_type": "stream",
          "name": "stdout",
          "text": [
            "1\n"
          ]
        }
      ]
    },
    {
      "cell_type": "code",
      "source": [
        "del st"
      ],
      "metadata": {
        "id": "L-eWowR1Wre2"
      },
      "execution_count": null,
      "outputs": []
    },
    {
      "cell_type": "code",
      "source": [
        "st"
      ],
      "metadata": {
        "id": "CAU4uC3HWwhU",
        "outputId": "55c2d392-6bc2-4fd2-ac4d-fe6222de8156",
        "colab": {
          "base_uri": "https://localhost:8080/",
          "height": 170
        }
      },
      "execution_count": null,
      "outputs": [
        {
          "output_type": "error",
          "ename": "NameError",
          "evalue": "ignored",
          "traceback": [
            "\u001b[0;31m---------------------------------------------------------------------------\u001b[0m",
            "\u001b[0;31mNameError\u001b[0m                                 Traceback (most recent call last)",
            "\u001b[0;32m<ipython-input-68-235690c2c180>\u001b[0m in \u001b[0;36m<module>\u001b[0;34m()\u001b[0m\n\u001b[0;32m----> 1\u001b[0;31m \u001b[0mst\u001b[0m\u001b[0;34m\u001b[0m\u001b[0;34m\u001b[0m\u001b[0m\n\u001b[0m",
            "\u001b[0;31mNameError\u001b[0m: name 'st' is not defined"
          ]
        }
      ]
    },
    {
      "cell_type": "code",
      "source": [
        "for i in st:\n",
        "  print(i)"
      ],
      "metadata": {
        "id": "a88HL6vPWxRW",
        "outputId": "22527dfe-b1eb-48c4-f277-18f5b7399451",
        "colab": {
          "base_uri": "https://localhost:8080/"
        }
      },
      "execution_count": null,
      "outputs": [
        {
          "output_type": "stream",
          "name": "stdout",
          "text": [
            "1\n",
            "2\n",
            "3\n",
            "('Apple', 'Mango', 'Banana')\n"
          ]
        }
      ]
    },
    {
      "cell_type": "code",
      "source": [
        "mySet = {0,1,2,3,4,5}\n",
        "secondSet = {6,7,8,9}\n",
        "thirdSet = mySet.union(secondSet)\n",
        "print(thirdSet)"
      ],
      "metadata": {
        "id": "jJiKrKcWW32l",
        "outputId": "4f98bdbe-0683-4a32-9222-0d57f643e516",
        "colab": {
          "base_uri": "https://localhost:8080/"
        }
      },
      "execution_count": null,
      "outputs": [
        {
          "output_type": "stream",
          "name": "stdout",
          "text": [
            "{0, 1, 2, 3, 4, 5, 6, 7, 8, 9}\n"
          ]
        }
      ]
    },
    {
      "cell_type": "code",
      "source": [
        "mySet = {0,1,2,3,4,5}\n",
        "secondSet = {100}\n",
        "mySet.intersection_update(secondSet)\n",
        "print(mySet)"
      ],
      "metadata": {
        "id": "eDc45TzDW_Vl",
        "outputId": "bff5c720-6e09-4149-f50b-56528da8cb34",
        "colab": {
          "base_uri": "https://localhost:8080/"
        }
      },
      "execution_count": 73,
      "outputs": [
        {
          "output_type": "stream",
          "name": "stdout",
          "text": [
            "set()\n"
          ]
        }
      ]
    },
    {
      "cell_type": "markdown",
      "source": [
        "Dictionary { }"
      ],
      "metadata": {
        "id": "Lb8zXNhqY2MR"
      }
    },
    {
      "cell_type": "code",
      "source": [
        "my_dict = {\n",
        "    \"Name\":\"Pepper\",\n",
        "    \"Age\":4,\n",
        "    \"Location\":\"Noida\",\n",
        "    \"Lrcs\":[\"Dev\",\"Extended\",\"DSA\"]\n",
        "}"
      ],
      "metadata": {
        "id": "1iLfkqZJXB68"
      },
      "execution_count": 76,
      "outputs": []
    },
    {
      "cell_type": "code",
      "source": [
        "print(my_dict)"
      ],
      "metadata": {
        "id": "jE8mfMwCZwNg",
        "outputId": "7ff3af41-537c-4a38-94a1-bb16c81fc835",
        "colab": {
          "base_uri": "https://localhost:8080/"
        }
      },
      "execution_count": 77,
      "outputs": [
        {
          "output_type": "stream",
          "name": "stdout",
          "text": [
            "{'Name': 'Pepper', 'Age': 4, 'Location': 'Noida', 'Lrcs': ['Dev', 'Extended', 'DSA']}\n"
          ]
        }
      ]
    },
    {
      "cell_type": "code",
      "source": [
        "new_dict = {\"test\":my_dict}"
      ],
      "metadata": {
        "id": "sQ_FILrfZ4xg"
      },
      "execution_count": 78,
      "outputs": []
    },
    {
      "cell_type": "code",
      "source": [
        "new_dict"
      ],
      "metadata": {
        "id": "ryOcwNbQaWuu",
        "outputId": "eba56abe-2050-4127-a3fe-f950a8d7a1aa",
        "colab": {
          "base_uri": "https://localhost:8080/"
        }
      },
      "execution_count": 79,
      "outputs": [
        {
          "output_type": "execute_result",
          "data": {
            "text/plain": [
              "{'test': {'Age': 4,\n",
              "  'Location': 'Noida',\n",
              "  'Lrcs': ['Dev', 'Extended', 'DSA'],\n",
              "  'Name': 'Pepper'}}"
            ]
          },
          "metadata": {},
          "execution_count": 79
        }
      ]
    },
    {
      "cell_type": "code",
      "source": [
        "print(my_dict[\"Name\"])"
      ],
      "metadata": {
        "id": "mYSlVn_xaXmK",
        "outputId": "8288ce87-c142-475f-91b7-6ff6a4ee2967",
        "colab": {
          "base_uri": "https://localhost:8080/"
        }
      },
      "execution_count": 80,
      "outputs": [
        {
          "output_type": "stream",
          "name": "stdout",
          "text": [
            "Pepper\n"
          ]
        }
      ]
    },
    {
      "cell_type": "code",
      "source": [
        "my_dict[\"Name\"] = \"Pepcoding\""
      ],
      "metadata": {
        "id": "EOl6C2G_aouo"
      },
      "execution_count": 81,
      "outputs": []
    },
    {
      "cell_type": "code",
      "source": [
        "my_dict"
      ],
      "metadata": {
        "id": "DKRLdDqcascf",
        "outputId": "b8f67d4c-dd0c-426d-91ed-2670d42e0092",
        "colab": {
          "base_uri": "https://localhost:8080/"
        }
      },
      "execution_count": 84,
      "outputs": [
        {
          "output_type": "execute_result",
          "data": {
            "text/plain": [
              "{'Age': 4,\n",
              " 'Location': 'Noida',\n",
              " 'Lrcs': ['Dev', 'Extended', 'DSA'],\n",
              " 'Name': 'Pepcoding',\n",
              " 'test': 'Test'}"
            ]
          },
          "metadata": {},
          "execution_count": 84
        }
      ]
    },
    {
      "cell_type": "code",
      "source": [
        "my_dict[\"test\"] = \"Test\""
      ],
      "metadata": {
        "id": "KvhWQcgmatc8"
      },
      "execution_count": 83,
      "outputs": []
    },
    {
      "cell_type": "code",
      "source": [
        "my_dict.pop(\"test\")"
      ],
      "metadata": {
        "id": "ogDNVYa4bFlx",
        "outputId": "0ead116a-3291-48c0-8af3-27592f259f7d",
        "colab": {
          "base_uri": "https://localhost:8080/",
          "height": 36
        }
      },
      "execution_count": 85,
      "outputs": [
        {
          "output_type": "execute_result",
          "data": {
            "application/vnd.google.colaboratory.intrinsic+json": {
              "type": "string"
            },
            "text/plain": [
              "'Test'"
            ]
          },
          "metadata": {},
          "execution_count": 85
        }
      ]
    },
    {
      "cell_type": "code",
      "source": [
        "my_dict"
      ],
      "metadata": {
        "id": "oIF3NbMxbMMW",
        "outputId": "948fb380-6c8e-4fb3-b477-ddd79eafc6a4",
        "colab": {
          "base_uri": "https://localhost:8080/"
        }
      },
      "execution_count": 89,
      "outputs": [
        {
          "output_type": "execute_result",
          "data": {
            "text/plain": [
              "{'Age': 4,\n",
              " 'Location': 'Noida',\n",
              " 'Lrcs': ['HOtDev', 'Extended', 'DSA'],\n",
              " 'Name': 'Pepcoding'}"
            ]
          },
          "metadata": {},
          "execution_count": 89
        }
      ]
    },
    {
      "cell_type": "code",
      "source": [
        "my_dict[\"Lrcs\"][0] = \"HOtDev\""
      ],
      "metadata": {
        "id": "30Z600Z_bPv1"
      },
      "execution_count": 88,
      "outputs": []
    },
    {
      "cell_type": "code",
      "source": [
        "for keys in my_dict.keys():\n",
        "  print(keys)"
      ],
      "metadata": {
        "id": "XOxK8TglbV7B",
        "outputId": "2c49ce84-97cc-46dc-d1a1-41da4864f700",
        "colab": {
          "base_uri": "https://localhost:8080/"
        }
      },
      "execution_count": 90,
      "outputs": [
        {
          "output_type": "stream",
          "name": "stdout",
          "text": [
            "Name\n",
            "Age\n",
            "Location\n",
            "Lrcs\n"
          ]
        }
      ]
    },
    {
      "cell_type": "code",
      "source": [
        "for values in my_dict.values():\n",
        "  print(values)"
      ],
      "metadata": {
        "id": "ua_Tp5xIbhbg",
        "outputId": "b6e08a70-3737-4755-c6c7-3d1b6638a8fe",
        "colab": {
          "base_uri": "https://localhost:8080/"
        }
      },
      "execution_count": 92,
      "outputs": [
        {
          "output_type": "stream",
          "name": "stdout",
          "text": [
            "Pepcoding\n",
            "4\n",
            "Noida\n",
            "['HOtDev', 'Extended', 'DSA']\n"
          ]
        }
      ]
    },
    {
      "cell_type": "code",
      "source": [
        "dict1 ={\n",
        "    \"d1\":{\n",
        "        \"a\":1,\n",
        "        \"b\":2,\n",
        "    },\n",
        "    \"d2\":{\n",
        "        \"c\":3,\n",
        "        \"d\":4,\n",
        "    },\n",
        "    \"d3\":{\n",
        "        \"e\":5,\n",
        "        \"f\":6,\n",
        "    }\n",
        "}\n",
        " \n",
        "print(dict1)"
      ],
      "metadata": {
        "id": "4c5ljL2Ybj2a",
        "outputId": "114d4b66-c354-4566-80af-c998f7b6a67c",
        "colab": {
          "base_uri": "https://localhost:8080/"
        }
      },
      "execution_count": 93,
      "outputs": [
        {
          "output_type": "stream",
          "name": "stdout",
          "text": [
            "{'d1': {'a': 1, 'b': 2}, 'd2': {'c': 3, 'd': 4}, 'd3': {'e': 5, 'f': 6}}\n"
          ]
        }
      ]
    },
    {
      "cell_type": "code",
      "source": [
        "new_dict = {val: val*val for val in range(1, 6)}\n",
        "print(new_dict)"
      ],
      "metadata": {
        "id": "hBh7Aj2Xbsio",
        "outputId": "bc2b86a9-9fdc-4620-f460-c9b5a197c620",
        "colab": {
          "base_uri": "https://localhost:8080/"
        }
      },
      "execution_count": 94,
      "outputs": [
        {
          "output_type": "stream",
          "name": "stdout",
          "text": [
            "{1: 1, 2: 4, 3: 9, 4: 16, 5: 25}\n"
          ]
        }
      ]
    },
    {
      "cell_type": "code",
      "source": [
        ""
      ],
      "metadata": {
        "id": "kMRKt7vwb44l"
      },
      "execution_count": null,
      "outputs": []
    }
  ]
}